{
 "cells": [
  {
   "cell_type": "markdown",
   "source": [
    "# 🏋️ Primer Notebook: Exploración de Datos Crudos"
   ],
   "metadata": {}
  },
  {
   "cell_type": "code",
   "source": [
    "# Aquí cargaremos los datos crudos del Excel/Google Sheets para validarlos.\n",
    "print(\"El notebook se inicializó correctamente.\")"
   ],
   "execution_count": null,
   "outputs": [],
   "metadata": {}
  }
 ],
 "metadata": {
  "kernelspec": {
   "display_name": "Python 3",
   "language": "python",
   "name": "python3"
  },
  "language_info": {
   "codemirror_mode": {
    "name": "ipython",
    "version": 3
   },
   "file_extension": ".py",
   "mimetype": "text/x-python",
   "name": "python",
   "nbconvert_exporter": "python",
   "pygments_lexer": "ipython3",
   "version": "3.11.5"
  }
 },
 "nbformat_minor": 5,
 "nbformat": 4
}
#Carga de librerías necesarias.
#Ingesta de los datos desde el repositorio.
#Análisis exploratorio inicial de los datos:
#forma y tamaño del dataset
#estadísticos principales
#análisis de duplicados, valores únicos, nulos y outliers
#Análisis exploratorio inicial con visualizaciones:
#gráficos básicos que permitan contrastar hipótesis de la entrega 1
#conclusiones preliminares (sin necesidad de tests formales)
#Preprocesamiento inicial:
#tratamiento de nulos, duplicados y outliers
#definición de criterios de imputación y justificación
#Ingeniería de variables inicial (si aplica):
#eliminación de columnas innecesarias (constantes, muy correlacionadas, etc.)
#creación de nuevas variables útiles


