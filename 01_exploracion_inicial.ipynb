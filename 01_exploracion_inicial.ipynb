{
 "cells": [
  {
   "cell_type": "code",
   "execution_count": null,
   "metadata": {},
   "outputs": [],
   "source": [
   ]
  }
 ],
 "metadata": {
  "kernelspec": {
   "display_name": "Python 3",
   "language": "python",
   "name": "python3"
  },
  "language_info": {
   "name": "python",
   "version": ""
  }
 },
 "nbformat": 4,
 "nbformat_minor": 2
}

"""Carga de librerías necesarias.
Ingesta de los datos desde el repositorio.
Análisis exploratorio inicial de los datos:
forma y tamaño del dataset
estadísticos principales
análisis de duplicados, valores únicos, nulos y outliers
Análisis exploratorio inicial con visualizaciones:
gráficos básicos que permitan contrastar hipótesis de la entrega 1
conclusiones preliminares (sin necesidad de tests formales)
Preprocesamiento inicial:
tratamiento de nulos, duplicados y outliers
definición de criterios de imputación y justificación
Ingeniería de variables inicial (si aplica):
eliminación de columnas innecesarias (constantes, muy correlacionadas, etc.)
creación de nuevas variables útiles"""
